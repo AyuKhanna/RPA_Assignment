{
 "cells": [
  {
   "cell_type": "code",
   "execution_count": 1,
   "id": "36c23f9c",
   "metadata": {},
   "outputs": [],
   "source": [
    "import pandas as pd\n",
    "import numpy as np\n",
    "data=pd.read_excel(r'C:\\Users\\AYUSHI_AYUSHI\\Documents\\RPA_Assignment\\Excel_2.xlsx')"
   ]
  },
  {
   "cell_type": "code",
   "execution_count": 2,
   "id": "d7579545",
   "metadata": {},
   "outputs": [],
   "source": [
    "Input=data.drop(['Unnamed: 5','Unnamed: 6'],axis=1)\n",
    "Input [\"start_timestamp\"] = Input.startdatetime.values.astype(np.int64) // 10 ** 9\n",
    "Input [\"end_timestamp\"] = Input.enddatetime.values.astype(np.int64) // 10 ** 9"
   ]
  },
  {
   "cell_type": "code",
   "execution_count": 28,
   "id": "77fcc51f",
   "metadata": {},
   "outputs": [
    {
     "data": {
      "text/html": [
       "<div>\n",
       "<style scoped>\n",
       "    .dataframe tbody tr th:only-of-type {\n",
       "        vertical-align: middle;\n",
       "    }\n",
       "\n",
       "    .dataframe tbody tr th {\n",
       "        vertical-align: top;\n",
       "    }\n",
       "\n",
       "    .dataframe thead th {\n",
       "        text-align: right;\n",
       "    }\n",
       "</style>\n",
       "<table border=\"1\" class=\"dataframe\">\n",
       "  <thead>\n",
       "    <tr style=\"text-align: right;\">\n",
       "      <th></th>\n",
       "      <th>sessionid</th>\n",
       "      <th>startdatetime</th>\n",
       "      <th>enddatetime</th>\n",
       "      <th>processid</th>\n",
       "      <th>Duration (mins)</th>\n",
       "      <th>start_timestamp</th>\n",
       "      <th>end_timestamp</th>\n",
       "    </tr>\n",
       "  </thead>\n",
       "  <tbody>\n",
       "    <tr>\n",
       "      <th>0</th>\n",
       "      <td>0ED0CFF8-06EB-41ED-AEF9-5F12139E53CB</td>\n",
       "      <td>2020-02-28 14:00:16.313</td>\n",
       "      <td>2020-03-02 05:03:48.387</td>\n",
       "      <td>108BC1E0-174B-4210-A1D0-760DF09A8B50</td>\n",
       "      <td>3783</td>\n",
       "      <td>1582898416</td>\n",
       "      <td>1583125428</td>\n",
       "    </tr>\n",
       "    <tr>\n",
       "      <th>1</th>\n",
       "      <td>7259583E-3438-40AE-BADF-0ED52C29C8F4</td>\n",
       "      <td>2020-02-28 17:42:20.187</td>\n",
       "      <td>2020-03-02 11:39:06.847</td>\n",
       "      <td>6D60BDB2-1EF6-4BDD-A417-C19654CCBB9D</td>\n",
       "      <td>3957</td>\n",
       "      <td>1582911740</td>\n",
       "      <td>1583149146</td>\n",
       "    </tr>\n",
       "    <tr>\n",
       "      <th>2</th>\n",
       "      <td>9769A4BD-400D-4E4C-A27B-BA9EB04C16A0</td>\n",
       "      <td>2020-02-28 18:27:05.923</td>\n",
       "      <td>2020-03-02 10:54:07.753</td>\n",
       "      <td>E64C4A2A-F3BB-4AAE-B36F-D0709F976AEE</td>\n",
       "      <td>3867</td>\n",
       "      <td>1582914425</td>\n",
       "      <td>1583146447</td>\n",
       "    </tr>\n",
       "    <tr>\n",
       "      <th>3</th>\n",
       "      <td>44912131-05E2-43FE-9F87-626B4938730E</td>\n",
       "      <td>2020-02-28 18:53:10.787</td>\n",
       "      <td>2020-03-02 10:57:12.427</td>\n",
       "      <td>6288AC39-69E7-40C4-A7E6-3C8D76ADB19B</td>\n",
       "      <td>3844</td>\n",
       "      <td>1582915990</td>\n",
       "      <td>1583146632</td>\n",
       "    </tr>\n",
       "    <tr>\n",
       "      <th>4</th>\n",
       "      <td>C8049FA3-5542-4EDE-8341-92C48B4A7E86</td>\n",
       "      <td>2020-02-28 21:30:06.963</td>\n",
       "      <td>2020-03-02 12:54:38.290</td>\n",
       "      <td>08B3574C-B1E6-4295-8D04-D341A336A46C</td>\n",
       "      <td>3804</td>\n",
       "      <td>1582925406</td>\n",
       "      <td>1583153678</td>\n",
       "    </tr>\n",
       "  </tbody>\n",
       "</table>\n",
       "</div>"
      ],
      "text/plain": [
       "                              sessionid           startdatetime  \\\n",
       "0  0ED0CFF8-06EB-41ED-AEF9-5F12139E53CB 2020-02-28 14:00:16.313   \n",
       "1  7259583E-3438-40AE-BADF-0ED52C29C8F4 2020-02-28 17:42:20.187   \n",
       "2  9769A4BD-400D-4E4C-A27B-BA9EB04C16A0 2020-02-28 18:27:05.923   \n",
       "3  44912131-05E2-43FE-9F87-626B4938730E 2020-02-28 18:53:10.787   \n",
       "4  C8049FA3-5542-4EDE-8341-92C48B4A7E86 2020-02-28 21:30:06.963   \n",
       "\n",
       "              enddatetime                             processid  \\\n",
       "0 2020-03-02 05:03:48.387  108BC1E0-174B-4210-A1D0-760DF09A8B50   \n",
       "1 2020-03-02 11:39:06.847  6D60BDB2-1EF6-4BDD-A417-C19654CCBB9D   \n",
       "2 2020-03-02 10:54:07.753  E64C4A2A-F3BB-4AAE-B36F-D0709F976AEE   \n",
       "3 2020-03-02 10:57:12.427  6288AC39-69E7-40C4-A7E6-3C8D76ADB19B   \n",
       "4 2020-03-02 12:54:38.290  08B3574C-B1E6-4295-8D04-D341A336A46C   \n",
       "\n",
       "   Duration (mins)  start_timestamp  end_timestamp  \n",
       "0             3783       1582898416     1583125428  \n",
       "1             3957       1582911740     1583149146  \n",
       "2             3867       1582914425     1583146447  \n",
       "3             3844       1582915990     1583146632  \n",
       "4             3804       1582925406     1583153678  "
      ]
     },
     "execution_count": 28,
     "metadata": {},
     "output_type": "execute_result"
    }
   ],
   "source": [
    "Input.head()"
   ]
  },
  {
   "cell_type": "code",
   "execution_count": 29,
   "id": "27b39a98",
   "metadata": {},
   "outputs": [],
   "source": [
    "Input[\"start_timestamp\"] = pd.to_numeric(Input[\"start_timestamp\"])\n",
    "Input[\"end_timestamp\"] = pd.to_numeric(Input[\"end_timestamp\"])"
   ]
  },
  {
   "cell_type": "code",
   "execution_count": 3,
   "id": "7c36bd3f",
   "metadata": {},
   "outputs": [],
   "source": [
    "desired_time = pd.Timestamp('2020-03-08 00:01:00', tz=None)\n",
    "from datetime import datetime\n",
    "desired_time = datetime(2020, 3, 8, 0, 1, 0)"
   ]
  },
  {
   "cell_type": "code",
   "execution_count": 33,
   "id": "f0bd97fd",
   "metadata": {},
   "outputs": [],
   "source": [
    "ts = int(desired_time.timestamp())\n",
    "type(Input[\"start_timestamp\"][0])"
   ]
  },
  {
   "cell_type": "code",
   "execution_count": 37,
   "id": "17915b75",
   "metadata": {},
   "outputs": [
    {
     "data": {
      "text/plain": [
       "14"
      ]
     },
     "execution_count": 37,
     "metadata": {},
     "output_type": "execute_result"
    }
   ],
   "source": [
    "# In march month\n",
    "len(Input[(Input[\"start_timestamp\"]<=ts) & (Input[\"end_timestamp\"]>=ts)])"
   ]
  },
  {
   "cell_type": "code",
   "execution_count": 38,
   "id": "c6c0c944",
   "metadata": {},
   "outputs": [],
   "source": [
    "start_march_2020 = int(datetime(2020, 3, 1, 0, 0, 0).timestamp())\n",
    "end_march_2020 = int(datetime(2020, 3, 31, 23, 0, 0).timestamp())"
   ]
  },
  {
   "cell_type": "code",
   "execution_count": 39,
   "id": "b9cb14fc",
   "metadata": {},
   "outputs": [
    {
     "data": {
      "text/plain": [
       "30.958333333333332"
      ]
     },
     "execution_count": 39,
     "metadata": {},
     "output_type": "execute_result"
    }
   ],
   "source": [
    "(end_march_2020 - start_march_2020)/86400\n",
    "march_data_2020 = Input[(Input[\"start_timestamp\"]<=start_march_2020) & (Input[\"end_timestamp\"]>=end_march_2020)]"
   ]
  },
  {
   "cell_type": "code",
   "execution_count": 44,
   "id": "7725c0f6",
   "metadata": {},
   "outputs": [
    {
     "name": "stderr",
     "output_type": "stream",
     "text": [
      "<ipython-input-44-ec0c20682e87>:2: UserWarning: \n",
      "The dash_core_components package is deprecated. Please replace\n",
      "`import dash_core_components as dcc` with `from dash import dcc`\n",
      "  import dash_core_components as dcc\n",
      "<ipython-input-44-ec0c20682e87>:3: UserWarning: \n",
      "The dash_html_components package is deprecated. Please replace\n",
      "`import dash_html_components as html` with `from dash import html`\n",
      "  import dash_html_components as html\n"
     ]
    }
   ],
   "source": [
    "\n",
    "import dash\n",
    "import dash_core_components as dcc\n",
    "import dash_html_components as html\n",
    "import plotly.express as px\n",
    "import pandas as pd"
   ]
  },
  {
   "cell_type": "code",
   "execution_count": 62,
   "id": "2e3365d4",
   "metadata": {},
   "outputs": [
    {
     "ename": "ValueError",
     "evalue": "Error parsing datetime string \"108BC1E0-174B-4210-A1D0-760DF09A8B50\" at position 3",
     "output_type": "error",
     "traceback": [
      "\u001b[1;31m---------------------------------------------------------------------------\u001b[0m",
      "\u001b[1;31mValueError\u001b[0m                                Traceback (most recent call last)",
      "\u001b[1;32m<ipython-input-62-56271e751048>\u001b[0m in \u001b[0;36m<module>\u001b[1;34m\u001b[0m\n\u001b[0;32m      6\u001b[0m \u001b[0my_values\u001b[0m \u001b[1;33m=\u001b[0m \u001b[0mInput\u001b[0m\u001b[1;33m[\u001b[0m\u001b[1;34m\"start_timestamp\"\u001b[0m\u001b[1;33m]\u001b[0m\u001b[1;33m\u001b[0m\u001b[1;33m\u001b[0m\u001b[0m\n\u001b[0;32m      7\u001b[0m \u001b[1;33m\u001b[0m\u001b[0m\n\u001b[1;32m----> 8\u001b[1;33m \u001b[0mdates\u001b[0m \u001b[1;33m=\u001b[0m \u001b[0mmatplotlib\u001b[0m\u001b[1;33m.\u001b[0m\u001b[0mdates\u001b[0m\u001b[1;33m.\u001b[0m\u001b[0mdate2num\u001b[0m\u001b[1;33m(\u001b[0m\u001b[0mx_values\u001b[0m\u001b[1;33m)\u001b[0m\u001b[1;33m\u001b[0m\u001b[1;33m\u001b[0m\u001b[0m\n\u001b[0m\u001b[0;32m      9\u001b[0m \u001b[0mmatplotlib\u001b[0m\u001b[1;33m.\u001b[0m\u001b[0mpyplot\u001b[0m\u001b[1;33m.\u001b[0m\u001b[0mplot_date\u001b[0m\u001b[1;33m(\u001b[0m\u001b[0mdates\u001b[0m\u001b[1;33m,\u001b[0m \u001b[0my_values\u001b[0m\u001b[1;33m)\u001b[0m\u001b[1;33m\u001b[0m\u001b[1;33m\u001b[0m\u001b[0m\n",
      "\u001b[1;32m~\\Anaconda3\\lib\\site-packages\\matplotlib\\dates.py\u001b[0m in \u001b[0;36mdate2num\u001b[1;34m(d)\u001b[0m\n\u001b[0;32m    428\u001b[0m             \u001b[0md\u001b[0m \u001b[1;33m=\u001b[0m \u001b[1;33m[\u001b[0m\u001b[0mdt\u001b[0m\u001b[1;33m.\u001b[0m\u001b[0mastimezone\u001b[0m\u001b[1;33m(\u001b[0m\u001b[0mUTC\u001b[0m\u001b[1;33m)\u001b[0m\u001b[1;33m.\u001b[0m\u001b[0mreplace\u001b[0m\u001b[1;33m(\u001b[0m\u001b[0mtzinfo\u001b[0m\u001b[1;33m=\u001b[0m\u001b[1;32mNone\u001b[0m\u001b[1;33m)\u001b[0m \u001b[1;32mfor\u001b[0m \u001b[0mdt\u001b[0m \u001b[1;32min\u001b[0m \u001b[0md\u001b[0m\u001b[1;33m]\u001b[0m\u001b[1;33m\u001b[0m\u001b[1;33m\u001b[0m\u001b[0m\n\u001b[0;32m    429\u001b[0m             \u001b[0md\u001b[0m \u001b[1;33m=\u001b[0m \u001b[0mnp\u001b[0m\u001b[1;33m.\u001b[0m\u001b[0masarray\u001b[0m\u001b[1;33m(\u001b[0m\u001b[0md\u001b[0m\u001b[1;33m)\u001b[0m\u001b[1;33m\u001b[0m\u001b[1;33m\u001b[0m\u001b[0m\n\u001b[1;32m--> 430\u001b[1;33m         \u001b[0md\u001b[0m \u001b[1;33m=\u001b[0m \u001b[0md\u001b[0m\u001b[1;33m.\u001b[0m\u001b[0mastype\u001b[0m\u001b[1;33m(\u001b[0m\u001b[1;34m'datetime64[us]'\u001b[0m\u001b[1;33m)\u001b[0m\u001b[1;33m\u001b[0m\u001b[1;33m\u001b[0m\u001b[0m\n\u001b[0m\u001b[0;32m    431\u001b[0m \u001b[1;33m\u001b[0m\u001b[0m\n\u001b[0;32m    432\u001b[0m     \u001b[0md\u001b[0m \u001b[1;33m=\u001b[0m \u001b[0m_dt64_to_ordinalf\u001b[0m\u001b[1;33m(\u001b[0m\u001b[0md\u001b[0m\u001b[1;33m)\u001b[0m\u001b[1;33m\u001b[0m\u001b[1;33m\u001b[0m\u001b[0m\n",
      "\u001b[1;31mValueError\u001b[0m: Error parsing datetime string \"108BC1E0-174B-4210-A1D0-760DF09A8B50\" at position 3"
     ]
    }
   ],
   "source": [
    "import matplotlib.pyplot\n",
    "import matplotlib.dates\n",
    "from datetime import datetime\n",
    "\n",
    "x_values = Input[\"processid\"]\n",
    "y_values = Input[\"start_timestamp\"]\n",
    "\n",
    "dates = matplotlib.dates.date2num(x_values)\n",
    "matplotlib.pyplot.plot_date(dates, y_values)"
   ]
  }
 ],
 "metadata": {
  "kernelspec": {
   "display_name": "Python 3",
   "language": "python",
   "name": "python3"
  },
  "language_info": {
   "codemirror_mode": {
    "name": "ipython",
    "version": 3
   },
   "file_extension": ".py",
   "mimetype": "text/x-python",
   "name": "python",
   "nbconvert_exporter": "python",
   "pygments_lexer": "ipython3",
   "version": "3.8.8"
  }
 },
 "nbformat": 4,
 "nbformat_minor": 5
}
