{
 "cells": [
  {
   "cell_type": "code",
   "execution_count": null,
   "id": "dfc7978e",
   "metadata": {},
   "outputs": [],
   "source": [
    "from PyPDF2 import PdfFileReader, PdfFileWriter\n",
    "from pathlib import Path\n",
    "import re\n",
    "# Create pdf file reader object\n",
    "pdf = PdfFileReader(r'C:\\Users\\AYUSHI_AYUSHI\\Documents\\RPA_Assignment\\Acrobat Document.pdf', 'rb')\n",
    "# TWO STEPS TO EXTRACT TEXT \n",
    "# Step 1: Grab the Page(s)\n",
    "page_1_object = pdf.getPage(0)\n",
    "#print(page_1_object)\n",
    "# Step 2: Extract Text\n",
    "page_1_text = page_1_object.extractText()\n",
    "page_1_text"
   ]
  },
  {
   "cell_type": "code",
   "execution_count": null,
   "id": "d666adf6",
   "metadata": {},
   "outputs": [],
   "source": [
    "#A\n",
    "pages_sentences = []\n",
    "for page in pdf.pages:\n",
    "    page_num = page['/StructParents'] # if yo uwant to see the actual page number +1\n",
    "    page_text = page.extractText()\n",
    "\n",
    "    if 'Estrella Resources Ltd' in page_text or 'purchase' in page_text or 'project' in page_text: # page_text.find('Estrella Resources Ltd','purchase','project') for index position of 'Estrella Resources Ltd','purchase','project'\n",
    "        sentence_list = ['page ' + str(page_num) + ': ' + sentence.replace('\\n', '') for sentence in re.split('\\.\\W+|\\?\\W+|\\!\\W+[40,50]' + '\\.\\W+|\\?\\W+|\\!\\W+[40,50]'+'\\.\\W+|\\?\\W+|\\!\\W+[$ grep -E \"[[:alpha:]]{40,50}\"]', page_text) if 'Estrella Resources Ltd' in sentence or 'purchase' in sentence or 'project' in sentence][0]\n",
    "        pages_sentences.append(sentence_list)\n",
    "\n",
    "text = '\\n'.join(pages_sentences)\n",
    "print(text)\n",
    "\n"
   ]
  },
  {
   "cell_type": "code",
   "execution_count": null,
   "id": "49c51ccb",
   "metadata": {},
   "outputs": [],
   "source": [
    "#b\n",
    "pages_sentences = []\n",
    "for page in pdf.pages:\n",
    "    page_num = page['/StructParents'] # if yo uwant to see the actual page number +1\n",
    "    page_text = page.extractText()\n",
    "\n",
    "    if 'The Company' in page_text or 'sale' in page_text or 'project' in page_text: # page_text.find('The Company','Sale','Project') for index position of 'The Company','Sale','Project'\n",
    "        sentence_list = ['page ' + str(page_num) + ': ' + sentence.replace('\\n', '') for sentence in re.split('\\.\\W+|\\?\\W+|\\!\\W+[$ grep -E \"[[:alpha:]]{40,50}\"]' + '\\.\\W+|\\?\\W+|\\!\\W+[$ grep -E \"[[:alpha:]]{40,50}\"]'+'\\.\\W+|\\?\\W+|\\!\\W+[$ grep -E \"[[:alpha:]]{40,50}\"]', page_text) if 'The Company' in sentence or 'sale' in sentence or 'project' in sentence][0]\n",
    "        pages_sentences.append(sentence_list)\n",
    "\n",
    "text = '\\n'.join(pages_sentences)\n",
    "print(text)\n"
   ]
  },
  {
   "cell_type": "code",
   "execution_count": null,
   "id": "cc13a241",
   "metadata": {},
   "outputs": [],
   "source": [
    "#c\n",
    "pages_sentences = []\n",
    "for page in pdf.pages:\n",
    "    page_num = page['/StructParents'] # if yo uwant to see the actual page number +1\n",
    "    page_text = page.extractText()\n",
    "\n",
    "    if 'The Company' in page_text or 'acquiring' in page_text: # page_text.find('The Company','Sale') for index position of 'The Company','Sale'\n",
    "        sentence_list = ['page ' + str(page_num) + ': ' + sentence.replace('\\n', '') for sentence in re.split('\\.\\W+|\\?\\W+|\\!\\W+[$ grep -E \"[[:alpha:]]{6,10}\"]' + '\\.\\W+|\\?\\W+|\\!\\W+[$ grep -E \"[[:alpha:]]{6,10}\"]', page_text) if 'The Company' in sentence or 'acquiring' in sentence][0]\n",
    "        pages_sentences.append(sentence_list)\n",
    "\n",
    "text = '\\n'.join(pages_sentences)\n",
    "print(text)"
   ]
  },
  {
   "cell_type": "code",
   "execution_count": null,
   "id": "20d9a5ad",
   "metadata": {},
   "outputs": [],
   "source": [
    "#D\n",
    "pages_sentences = []\n",
    "for page in pdf.pages:\n",
    "    page_num = page['/StructParents'] # if yo uwant to see the actual page number +1\n",
    "    page_text = page.extractText()\n",
    "\n",
    "    if 'Estrella Resources Ltd' in page_text or 'buy' in page_text or 'Business' in page_text: # page_text.find('Estrella Resources Ltd','buy','Business') for index position of 'Estrella Resources Ltd','buy','Business'\n",
    "        sentence_list = ['page ' + str(page_num) + ': ' + sentence.replace('\\n', '') for sentence in re.split('\\.\\W+|\\?\\W+|\\!\\W+[$ grep -E \"[[:alpha:]]{10,15}\"]' + '\\.\\W+|\\?\\W+|\\!\\W+[$ grep -E \"[[:alpha:]]{10,15}\"]'+'\\.\\W+|\\?\\W+|\\!\\W+[$ grep -E \"[[:alpha:]]{10,15}\"]', page_text) if 'Estrella Resources Ltd' in sentence or 'buy' in sentence or 'Business' in sentence][0]\n",
    "        pages_sentences.append(sentence_list)\n",
    "\n",
    "text = '\\n'.join(pages_sentences)\n",
    "print(text)\n",
    "\n"
   ]
  },
  {
   "cell_type": "code",
   "execution_count": null,
   "id": "30979971",
   "metadata": {},
   "outputs": [],
   "source": [
    "#D\n",
    "pages_sentences = []\n",
    "for page in pdf.pages:\n",
    "    page_num = page['/StructParents'] # if yo uwant to see the actual page number +1\n",
    "    page_text = page.extractText()\n",
    "\n",
    "    if 'Estrella Resources Ltd' in page_text or 'sold' in page_text or 'project' in page_text: # page_text.find('Estrella Resources Ltd','sold','project') for index position of 'Estrella Resources Ltd','sold','project'\n",
    "        sentence_list = ['page ' + str(page_num) + ': ' + sentence.replace('\\n', '') for sentence in re.split('\\.\\W+|\\?\\W+|\\!\\W+[$ grep -E \"[[:alpha:]]{6,10}\"]' + '\\.\\W+|\\?\\W+|\\!\\W+[$ grep -E \"[[:alpha:]]{6,10}\"]'+'\\.\\W+|\\?\\W+|\\!\\W+[$ grep -E \"[[:alpha:]]{6,10}\"]', page_text) if 'Estrella Resources Ltd' in sentence or 'sold' in sentence or 'project' in sentence][0]\n",
    "        pages_sentences.append(sentence_list)\n",
    "\n",
    "text = '\\n'.join(pages_sentences)\n",
    "print(text)\n",
    "\n"
   ]
  },
  {
   "cell_type": "code",
   "execution_count": null,
   "id": "00231552",
   "metadata": {},
   "outputs": [],
   "source": []
  }
 ],
 "metadata": {
  "kernelspec": {
   "display_name": "Python 3",
   "language": "python",
   "name": "python3"
  },
  "language_info": {
   "codemirror_mode": {
    "name": "ipython",
    "version": 3
   },
   "file_extension": ".py",
   "mimetype": "text/x-python",
   "name": "python",
   "nbconvert_exporter": "python",
   "pygments_lexer": "ipython3",
   "version": "3.8.8"
  }
 },
 "nbformat": 4,
 "nbformat_minor": 5
}
