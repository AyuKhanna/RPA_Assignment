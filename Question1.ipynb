{
 "cells": [
  {
   "cell_type": "code",
   "execution_count": null,
   "id": "d9baf256",
   "metadata": {},
   "outputs": [],
   "source": [
    "# Importing the Libraries\n",
    "import pandas as pd\n",
    "import csv"
   ]
  },
  {
   "cell_type": "code",
   "execution_count": null,
   "id": "996d9158",
   "metadata": {},
   "outputs": [],
   "source": [
    "# Reading the CVS File\n",
    "DT_data = pd.read_csv(r\"C:\\Users\\AYUSHI_AYUSHI\\Documents\\RPA_Assignment\\Question1.csv\")\n",
    "#Printing data\n",
    "DT_data\n",
    "#Checking the column name\n",
    "DT_data.columns"
   ]
  },
  {
   "cell_type": "code",
   "execution_count": null,
   "id": "564c6629",
   "metadata": {},
   "outputs": [],
   "source": [
    "# dropping the column(Share Rate: Taken as the Number(SR),Parent Like Rate: Taken as Number(PLR),Broad Audience[1-\"Yes\",0-\"No\"],Viral[1-\"Yes\",0-\"No\"])\n",
    "#d1=DT_data.drop(['SR','PLR','BA','Viral.1'],axis=1)\n",
    "d=DT_data.drop(['Share Rate','Parent Like Rate','Broad Audience','Viral'],axis=1)"
   ]
  },
  {
   "cell_type": "code",
   "execution_count": null,
   "id": "1271f3eb",
   "metadata": {},
   "outputs": [],
   "source": [
    "# Given X variable will have the BA,SR,PLR with transpose, \n",
    "# Y Variable will have viral(Desired output)\n",
    "X = pd.DataFrame(data=[DT_data[\"BA\"],DT_data[\"SR\"],DT_data[\"PLR\"]]).T\n",
    "y = pd.DataFrame(data=DT_data[\"Viral.1\"])"
   ]
  },
  {
   "cell_type": "code",
   "execution_count": null,
   "id": "b10eef83",
   "metadata": {},
   "outputs": [],
   "source": [
    "# X_train will have the first 15rows[:15](X variable)\n",
    "#X_ test will have the last 5rows[15:](X variable)\n",
    "\n",
    "X_train = X.iloc[:15]\n",
    "X_test= X.iloc[15:]"
   ]
  },
  {
   "cell_type": "code",
   "execution_count": null,
   "id": "c11e7b8d",
   "metadata": {},
   "outputs": [],
   "source": [
    "# y_train will have the first 15rows[:15](y variable)\n",
    "#y_ test will have the last 5rows[15:](y variable)\n",
    "y_train = y.iloc[:15]\n",
    "y_test = y.iloc[15:]"
   ]
  },
  {
   "cell_type": "code",
   "execution_count": null,
   "id": "1b08a724",
   "metadata": {},
   "outputs": [],
   "source": [
    "# importing the tree for Decision Tree Model\n",
    "from sklearn import tree\n",
    "clf = tree.DecisionTreeClassifier()\n",
    "clf = clf.fit(X_train, y_train)\n",
    "tree.plot_tree(clf)"
   ]
  },
  {
   "cell_type": "code",
   "execution_count": null,
   "id": "18d2344c",
   "metadata": {},
   "outputs": [],
   "source": [
    "# predicting the values for the viral on the basis of test set.\n",
    "clf.predict(X_test) "
   ]
  },
  {
   "cell_type": "code",
   "execution_count": null,
   "id": "2de41cbf",
   "metadata": {},
   "outputs": [],
   "source": [
    "result= DT_data.iloc[15:]\n",
    "result"
   ]
  },
  {
   "cell_type": "code",
   "execution_count": null,
   "id": "cf8432b7",
   "metadata": {},
   "outputs": [],
   "source": [
    "result[\"VIRAL\"] = clf.predict(X_test)\n",
    "result"
   ]
  },
  {
   "cell_type": "code",
   "execution_count": null,
   "id": "33e33980",
   "metadata": {},
   "outputs": [],
   "source": [
    "# We Have the Output for the \n",
    "#1.\tHow many Meme cards in the test set go viral?\n",
    "#2.\tWhat are the titles of the memes that went viral?\n",
    "RESULT = result.drop(columns=[\"Viral\",\"BA\",\"SR\",\"PLR\",\"Viral.1\"]).reset_index(drop=True)"
   ]
  },
  {
   "cell_type": "code",
   "execution_count": null,
   "id": "28a3c302",
   "metadata": {},
   "outputs": [],
   "source": [
    "RESULT"
   ]
  }
 ],
 "metadata": {
  "kernelspec": {
   "display_name": "Python 3",
   "language": "python",
   "name": "python3"
  },
  "language_info": {
   "codemirror_mode": {
    "name": "ipython",
    "version": 3
   },
   "file_extension": ".py",
   "mimetype": "text/x-python",
   "name": "python",
   "nbconvert_exporter": "python",
   "pygments_lexer": "ipython3",
   "version": "3.8.8"
  }
 },
 "nbformat": 4,
 "nbformat_minor": 5
}
